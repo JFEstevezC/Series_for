{
  "nbformat": 4,
  "nbformat_minor": 0,
  "metadata": {
    "colab": {
      "provenance": [],
      "authorship_tag": "ABX9TyPOUTb3HeJlYl82//Z75rJ1",
      "include_colab_link": true
    },
    "kernelspec": {
      "name": "python3",
      "display_name": "Python 3"
    },
    "language_info": {
      "name": "python"
    }
  },
  "cells": [
    {
      "cell_type": "markdown",
      "metadata": {
        "id": "view-in-github",
        "colab_type": "text"
      },
      "source": [
        "<a href=\"https://colab.research.google.com/github/JFEstevezC/Series_for/blob/main/series_for.ipynb\" target=\"_parent\"><img src=\"https://colab.research.google.com/assets/colab-badge.svg\" alt=\"Open In Colab\"/></a>"
      ]
    },
    {
      "cell_type": "markdown",
      "source": [
        "# SERES USANDO FOR\n"
      ],
      "metadata": {
        "id": "Lx71BEjgF2it"
      }
    },
    {
      "cell_type": "code",
      "execution_count": 14,
      "metadata": {
        "id": "-Rk12z8uD0bi",
        "colab": {
          "base_uri": "https://localhost:8080/"
        },
        "outputId": "dfbfc312-41d6-4c20-a39f-7cd7b653eefd"
      },
      "outputs": [
        {
          "output_type": "stream",
          "name": "stdout",
          "text": [
            "-----------------------\n",
            "------- SERIE 1 -------\n",
            "-----------------------\n",
            "Serie: {1, 2, 3, 4, 5, 6, 7, 8, 9, 10}\n"
          ]
        }
      ],
      "source": [
        "# Serie 1: 1, 2, 3, 4, 5, 6, 7, 8, 9, 10\n",
        "\n",
        "print(\"-----------------------\")\n",
        "print(\"------- SERIE 1 -------\")\n",
        "print(\"-----------------------\")\n",
        "\n",
        "\n",
        "s = \"Serie: {\"\n",
        "for i in range(1,11):\n",
        "  if i < 10:\n",
        "    s = s + str(i) + \", \"\n",
        "  else:\n",
        "    s = s + str(i) + \"}\"\n",
        "\n",
        "print(s)"
      ]
    },
    {
      "cell_type": "code",
      "source": [
        "# Serie 2: 1, 4, 9, 16, 25, 36, 49, 64, 81, ...\n",
        "print(\"-----------------------\")\n",
        "print(\"------- SERIE 2 -------\")\n",
        "print(\"-----------------------\")\n",
        "\n",
        "s = \"Serie: {\"\n",
        "for i in range(1,11):\n",
        "  if i < 10:\n",
        "    s = s + str(i**2) + \", \"\n",
        "  else:\n",
        "    s = s + str(i**2) + \"}\"\n",
        "\n",
        "print(s)"
      ],
      "metadata": {
        "id": "VzlvhLaKI7qB",
        "colab": {
          "base_uri": "https://localhost:8080/"
        },
        "outputId": "2ffcbe69-03cb-4027-d75c-f028cad3dcbc"
      },
      "execution_count": 13,
      "outputs": [
        {
          "output_type": "stream",
          "name": "stdout",
          "text": [
            "-----------------------\n",
            "------- SERIE 2 -------\n",
            "-----------------------\n",
            "Serie: {1, 4, 9, 16, 25, 36, 49, 64, 81, 100}\n"
          ]
        }
      ]
    },
    {
      "cell_type": "code",
      "source": [
        "# Serie 3: 2, 4, 8, 16, 32, 64,...\n",
        "print(\"-----------------------\")\n",
        "print(\"------- SERIE  -------\")\n",
        "print(\"-----------------------\")\n",
        "\n",
        "s = \"Serie: {\"\n",
        "for i in range(1,11):\n",
        "  if i < 10:\n",
        "    s = s + str(2**i) + \", \"\n",
        "  else:\n",
        "    s = s + str(2**i) + \"}\"\n",
        "\n",
        "print(s)"
      ],
      "metadata": {
        "id": "iCcv28pwNaqg",
        "colab": {
          "base_uri": "https://localhost:8080/"
        },
        "outputId": "f3adf345-b2c1-4a4d-8e71-85b5a5aed732"
      },
      "execution_count": 12,
      "outputs": [
        {
          "output_type": "stream",
          "name": "stdout",
          "text": [
            "-----------------------\n",
            "------- SERIE  -------\n",
            "-----------------------\n",
            "Serie: {2, 4, 8, 16, 32, 64, 128, 256, 512, 1024}\n"
          ]
        }
      ]
    },
    {
      "cell_type": "code",
      "source": [
        "# Serie 4: 2, 4, 8, 16, 32, 64,...\n",
        "print(\"-----------------------\")\n",
        "print(\"------- SERIE  -------\")\n",
        "print(\"-----------------------\")\n",
        "\n",
        "s = \"Serie: {\"\n",
        "for i in range(1,11):\n",
        "  if i < 10:\n",
        "    s = s + str(i**2 + i) + \", \"\n",
        "  else:\n",
        "    s = s + str(i**2 + i) + \"}\"\n",
        "\n",
        "print(s)"
      ],
      "metadata": {
        "colab": {
          "base_uri": "https://localhost:8080/"
        },
        "id": "HlCcjmFmPmq6",
        "outputId": "d3dec651-c39a-4cee-9d2c-300d24ac9483"
      },
      "execution_count": null,
      "outputs": [
        {
          "output_type": "stream",
          "name": "stdout",
          "text": [
            "-----------------------\n",
            "------- SERIE  -------\n",
            "-----------------------\n",
            "Serie: {2, 6, 12, 20, 30, 42, 56, 72, 90, 110}\n"
          ]
        }
      ]
    }
  ]
}